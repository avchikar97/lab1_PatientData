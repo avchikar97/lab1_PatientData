{
 "cells": [
  {
   "cell_type": "code",
   "execution_count": 1,
   "metadata": {
    "collapsed": false
   },
   "outputs": [
    {
     "data": {
      "image/png": "[encoded data removed]",
      "text/plain": [
       "<matplotlib.figure.Figure at 0x170c9b5e3c8>"
      ]
     },
     "metadata": {},
     "output_type": "display_data"
    }
   ],
   "source": [
    "# Lab Partners: Akaash Chikarmane, Sean Tremblay\n",
    "\n",
    "import pandas as pd\n",
    "import numpy as np\n",
    "import matplotlib.pyplot as plt\n",
    "\n",
    "gaussian1 = np.random.normal(-10, 5, 1000)\n",
    "gaussian2 = np.random.normal(10, 5, 1000)\n",
    "gaussian3 = gaussian1 + gaussian2\n",
    "\n",
    "count, bins, ignored = plt.hist(gaussian3, 50, normed=True)\n",
    "plt.show()"
   ]
  },
  {
   "cell_type": "code",
   "execution_count": 2,
   "metadata": {
    "collapsed": false
   },
   "outputs": [
    {
     "data": {
      "image/png": "[encoded data removed]",
      "text/plain": [
       "<matplotlib.figure.Figure at 0x170c7276c88>"
      ]
     },
     "metadata": {},
     "output_type": "display_data"
    },
    {
     "data": {
      "image/png": "[encoded data removed]",
      "text/plain": [
       "<matplotlib.figure.Figure at 0x170c74fa588>"
      ]
     },
     "metadata": {},
     "output_type": "display_data"
    },
    {
     "data": {
      "image/png": "[encoded data removed]",
      "text/plain": [
       "<matplotlib.figure.Figure at 0x170caed75f8>"
      ]
     },
     "metadata": {},
     "output_type": "display_data"
    }
   ],
   "source": [
    "import matplotlib.pyplot as plt\n",
    "import numpy as np\n",
    "from scipy.stats import bernoulli\n",
    "\n",
    "def Zn(n, draws):\n",
    "    Zarray = np.zeros(draws)\n",
    "    for i in range(draws):\n",
    "        p = 0.5\n",
    "        x0 = bernoulli.rvs(p, size=n)\n",
    "        x1 = np.array(x0)\n",
    "        np.place(x1, x0==0, -1)\n",
    "        Zarray[i] = (1/n)*np.sum(x1)\n",
    "    return Zarray\n",
    "\n",
    "Z = Zn(5, 1000)\n",
    "plt.hist(Z, 50)\n",
    "plt.figure()\n",
    "Z = Zn(30, 1000)\n",
    "plt.hist(Z, 50)\n",
    "plt.figure()\n",
    "Z = Zn(250, 1000)\n",
    "plt.hist(Z, 50)\n",
    "plt.show()"
   ]
  },
  {
   "cell_type": "code",
   "execution_count": 3,
   "metadata": {
    "collapsed": false
   },
   "outputs": [
    {
     "name": "stdout",
     "output_type": "stream",
     "text": [
      "mean =  0.010602454115\n",
      "sigma_square =  24.9353874523\n"
     ]
    }
   ],
   "source": [
    "import pandas as pd\n",
    "import numpy as np\n",
    "import matplotlib.pyplot as plt\n",
    "\n",
    "def Expected_value(n, samples):\n",
    "    ret = np.divide(np.sum(samples), n)\n",
    "    return ret\n",
    "\n",
    "\n",
    "num_samples = 25000\n",
    "mu, sigma = 0, 5\n",
    "samples = np.random.normal(mu, sigma, num_samples)\n",
    "mean = Expected_value(num_samples, samples)\n",
    "\n",
    "dummy_mean = np.full(num_samples, mean)\n",
    "difference = np.subtract(samples, dummy_mean)\n",
    "diff_sq = np.multiply(difference, difference)\n",
    "variance = Expected_value(num_samples-1, diff_sq)\n",
    "\n",
    "print(\"mean = \", mean)\n",
    "print(\"sigma_square = \", variance)"
   ]
  },
  {
   "cell_type": "code",
   "execution_count": 4,
   "metadata": {
    "collapsed": false
   },
   "outputs": [
    {
     "name": "stdout",
     "output_type": "stream",
     "text": [
      "mean =  [-4.9729256088957596, 4.94477819839235]\n",
      "Covariance matrix: \n",
      "[[ 20.045129     0.83039927]\n",
      " [  0.83039927  29.77717671]]\n"
     ]
    }
   ],
   "source": [
    "import pandas as pd\n",
    "import numpy as np\n",
    "import matplotlib.pyplot as plt\n",
    "\n",
    "def Expected_value(n, samples):\n",
    "    val0 = 0\n",
    "    val1 = 0\n",
    "    for sample in samples:\n",
    "        val0 = val0 + sample[0]\n",
    "        val1 = val1 + sample[1]\n",
    "        \n",
    "    val0 = np.divide(val0, n)\n",
    "    val1 = np.divide(val1, n)\n",
    "    return [val0, val1]\n",
    "\n",
    "num_samples = 10000\n",
    "cov_matrix = [[20, .8], [.8, 30]]\n",
    "samples = np.random.multivariate_normal([-5, 5], cov_matrix, (num_samples))\n",
    "\n",
    "# Calculating mean\n",
    "mean = Expected_value(num_samples, samples)\n",
    "print(\"mean = \", mean)\n",
    "\n",
    "## Covariance matrix\n",
    "\n",
    "# Basically transpose samples matrix to make for easier covariance calculations\n",
    "sampleX = np.zeros(num_samples)\n",
    "sampleY = np.zeros(num_samples)\n",
    "for i in range(num_samples):\n",
    "    sampleX[i] = samples[i][0]\n",
    "    sampleY[i] = samples[i][1]    \n",
    "samples_cov = np.array([sampleX, sampleY])\n",
    "\n",
    "# Mean matrix for easier covariance calculations\n",
    "dummy_mean_X = np.full(num_samples, mean[0])\n",
    "dummy_mean_Y = np.full(num_samples, mean[1])\n",
    "dummy_mean = np.array([dummy_mean_X, dummy_mean_Y])\n",
    "\n",
    "cov = np.zeros([2, 2])\n",
    "# Actual covariance calculations\n",
    "for i in range(2):\n",
    "    for j in range(2):        \n",
    "        difference_i = np.subtract(samples_cov[i], dummy_mean[i])\n",
    "        difference_j = np.subtract(samples_cov[j], dummy_mean[j])\n",
    "        diff_mult = np.multiply(difference_i, difference_j)\n",
    "        cov[i][j] = np.divide(np.sum(diff_mult), num_samples-1)\n",
    "print(\"Covariance matrix: \")\n",
    "print(cov)"
   ]
  },
  {
   "cell_type": "code",
   "execution_count": 3,
   "metadata": {
    "collapsed": false
   },
   "outputs": [
    {
     "data": {
      "image/png": "[encoded data removed]",
      "text/plain": [
       "<matplotlib.figure.Figure at 0x223da883cf8>"
      ]
     },
     "metadata": {},
     "output_type": "display_data"
    },
    {
     "data": {
      "image/png": "[encoded data removed]",
      "text/plain": [
       "<matplotlib.figure.Figure at 0x223da883da0>"
      ]
     },
     "metadata": {},
     "output_type": "display_data"
    },
    {
     "name": "stdout",
     "output_type": "stream",
     "text": [
      "           0           2\n",
      "1                       \n",
      "0  47.546798  171.315271\n",
      "1  45.594378  162.008032\n"
     ]
    },
    {
     "data": {
      "image/png": "[encoded data removed]",
      "text/plain": [
       "<matplotlib.figure.Figure at 0x223db44a668>"
      ]
     },
     "metadata": {},
     "output_type": "display_data"
    },
    {
     "name": "stderr",
     "output_type": "stream",
     "text": [
      "C:\\ProgramData\\Anaconda3\\lib\\site-packages\\ipykernel\\__main__.py:60: SettingWithCopyWarning: \n",
      "A value is trying to be set on a copy of a slice from a DataFrame\n",
      "\n",
      "See the caveats in the documentation: http://pandas.pydata.org/pandas-docs/stable/indexing.html#indexing-view-versus-copy\n"
     ]
    }
   ],
   "source": [
    "import pandas as pd\n",
    "import numpy as np\n",
    "import matplotlib.pyplot as plt\n",
    "\n",
    "### Questions ###\n",
    "# a) There are 452 patients and 280 features.\n",
    "# b) Column 0: is probably age because of the concentration around the middle, the low number of patients in the beginning bins, and the sudden dropoff around the 67 or 70 year mark.\n",
    "#    Column 1: is probably gender since the data given only has two choices and the distribution is approaching even (0 = 202, 1 = 250). Since the average height of 0 is 171cm and\n",
    "#             the average height of 1s is 162cm, 0 probably indicates male while 1 probably indicates female.\n",
    "#    Column 2: is probably height in centimeters because it's so concentrated between 155 (~5'2\") and 175 (~5'10\") range. The average male height in the U.S. is around 5'10\" while the average female height is around 5'4\".\n",
    "#    Column 3: the majority of patients appear to have col3 reading between 50 and 80 with one notable outlier at 175. It could be a a mistake, like the two outliers from col2, but it's best to assume they are true readings.\n",
    "#                since we are assuming the metric system for column 2, if we conclude the third column refers to weight in kg, it makes sense. Even the 175 kg outlier, while overweight provides a plausible weight for column 3 as the weight column\n",
    "# c) Yes there are missing values. This can be seen by printing df_na_columns or by running and printing df.isnull().any().any().\n",
    "# d) One way to test which features influence one another would be to assign any two features, plot it, and check correlation. This is likely to be a very slow method and it might not work if the data is not in the form of strictly numbers\n",
    "#    if it's something checking whether or not gender affects certain features. I think the best way to do it would be to groupby() a certain column and see if there are any trends that stick out as possibly related then manipulate the data\n",
    "#    in other ways such as create histogram or plot to see if it's possible to see a further possible correlation. Linear regression and checking the error value of each data point is also an option.\n",
    "# I would say the three most important features are (1) Condition (2) Gender and (3) Age since the last can make certain conditions more likely to occur and they affect the treatment regimen of the patient.\n",
    "#     Condition is the most important feature because it is the absolute deciding factor in the treatment of the patient and \n",
    "\n",
    "df = pd.read_csv('PatientData.csv', header=None, na_values='?') # header=None so that top row isn't seen as column indices\n",
    "\n",
    "## Column 0 analysis\n",
    "df[0].hist(bins=20)\n",
    "plt.xlabel('Column 0 distribution')\n",
    "plt.show()\n",
    "\n",
    "## Column 1 analysis\n",
    "plt.figure()\n",
    "df[1].hist(bins=10)\n",
    "plt.xlabel('Column 1 distribution')\n",
    "plt.show()\n",
    "df2 = df[[0, 1, 2]]\n",
    "df3 = df2.groupby(1).mean()\n",
    "print(df3)\n",
    "\n",
    "##Column 2 analysis \n",
    "df[2].value_counts()\n",
    "\n",
    "## Column 3 analysis\n",
    "plt.figure()\n",
    "df[3].hist(bins=30)\n",
    "plt.xlabel('Column 3 distribution')\n",
    "plt.show()\n",
    "\n",
    "## Replacing missing value (NaN)\n",
    "rows, columns = df.shape\n",
    "df_na = df.isnull() # to tell if the entry is NaN\n",
    "df_na_columns = df.isnull().any() # to tell if the column contains NaN\n",
    "df_mean = np.zeros(columns) # used to store column averages\n",
    "df_sum = df.sum(axis=1) # mean calculation (total in column)\n",
    "df_dummy = df.notnull().sum() # how many entries are non-NaN for averaging\n",
    "df_defined = np.array(df_dummy, dtype=int) # put it into numpy array\n",
    "for column in range(columns):\n",
    "    df_mean[column] = df_sum[column]\n",
    "df_mean = np.divide(df_mean, df_defined) # final mean calculation\n",
    "\n",
    "for column in range(columns):\n",
    "    if(df_na_columns[column]):\n",
    "        for row in range(rows):\n",
    "            if(df_na[column][row]):\n",
    "                df[column][row] = df_mean[column] # replacing NaN values"
   ]
  },
  {
   "cell_type": "code",
   "execution_count": null,
   "metadata": {
    "collapsed": true
   },
   "outputs": [],
   "source": []
  }
 ],
 "metadata": {
  "kernelspec": {
   "display_name": "Python 3",
   "language": "python",
   "name": "python3"
  },
  "language_info": {
   "codemirror_mode": {
    "name": "ipython",
    "version": 3
   },
   "file_extension": ".py",
   "mimetype": "text/x-python",
   "name": "python",
   "nbconvert_exporter": "python",
   "pygments_lexer": "ipython3",
   "version": "3.6.0"
  }
 },
 "nbformat": 4,
 "nbformat_minor": 2
}
